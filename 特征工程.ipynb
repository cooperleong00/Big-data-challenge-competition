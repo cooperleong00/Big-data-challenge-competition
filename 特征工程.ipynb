{
 "cells": [
  {
   "cell_type": "code",
   "execution_count": 1,
   "metadata": {},
   "outputs": [],
   "source": [
    "import numpy as np\n",
    "import pandas as pd\n",
    "import gensim\n",
    "from gensim import models\n",
    "from gensim.models import Word2Vec\n",
    "from gensim.models.word2vec import LineSentence\n",
    "from gensim.models.doc2vec import Doc2Vec, TaggedDocument\n",
    "import time\n",
    "import matplotlib.pyplot as plt\n",
    "import csv\n",
    "import os\n",
    "from tqdm import tqdm\n",
    "import warnings\n",
    "from gensim import corpora\n",
    "import scipy.stats as stats\n",
    "from scipy.spatial import distance\n",
    "from scipy.stats import skew, kurtosis\n",
    "from sklearn.feature_extraction.text import CountVectorizer,TfidfTransformer\n",
    "from sklearn.decomposition import TruncatedSVD\n",
    "from sklearn.linear_model import SGDClassifier\n",
    "warnings.filterwarnings(\"ignore\")"
   ]
  },
  {
   "cell_type": "code",
   "execution_count": 2,
   "metadata": {},
   "outputs": [],
   "source": [
    "#词向量特征\n",
    "#词向量训练的回调函数，用来打印loss、保存模型等等（注意，即使不训练词向量，加载时也要载入这个类）\n",
    "class train_log_word(gensim.models.callbacks.CallbackAny2Vec):\n",
    "    def __init__(self, savename):\n",
    "        self.loss = []\n",
    "        self.time = 0.0\n",
    "        self.epoch = 0\n",
    "        self.savename = savename\n",
    "    #在每一轮开始的时候\n",
    "    def on_epoch_begin(self,model):\n",
    "        self.time = time.time()\n",
    "    #在每一轮结束的时候\n",
    "    def on_epoch_end(self,model):\n",
    "        self.epoch+=1\n",
    "        print('Epoch '+str(self.epoch)+' using time '+str(time.time()-self.time)+' seconds')\n",
    "        #这个loss似乎是总的loss叠加\n",
    "        print('loss: '+str(model.get_latest_training_loss()))\n",
    "        self.loss.append(model.get_latest_training_loss())\n",
    "        #5轮保存一次\n",
    "        if(self.epoch%5==0):\n",
    "            model.save(self.savename)\n",
    "            print(\"Model %s save done!\" % self.savename)\n",
    "        #50轮作图一次\n",
    "        if(self.epoch%50==0):\n",
    "            plt.plot(np.array(self.loss))\n",
    "            plt.title('Model loss')\n",
    "            plt.ylabel('Loss')\n",
    "            plt.xlabel('Epoch')\n",
    "            #plt.legend(['Train', 'Test'], loc='upper left')\n",
    "            plt.show()\n",
    "            \n",
    "            \n",
    "#训练词向量,参数说明：存放corpus的文件，输出的文件名，轮数，词向量维数，中心词最远处理距离，线程数，过滤低于min_count的词，\n",
    "#sg=1为skip_gram训练方式、否则为cbow训练方式. alpha为初始学习率，min_alpha为最终学习率，学习率会逐渐降低至最终学习率.\n",
    "def make_w2v_model(corfile,output_model,\n",
    "                       epochs=100,vec_size=300,window=5,workers = 16,min_count=0,sg=1,alpha=0.025, min_alpha=0.0001):\n",
    "    start_time=time.time()\n",
    "    #读取语料文件为gensim需要的输入，行流式读取\n",
    "    cor=LineSentence(corfile)\n",
    "    #模型构建\n",
    "    model = gensim.models.Word2Vec(size=vec_size,window=window, workers=workers,sg=sg,min_count=min_count, \n",
    "                                   alpha = alpha,min_alpha = min_alpha)\n",
    "    #建立字典\n",
    "    model.build_vocab(cor)\n",
    "    #训练模型,注意这里使用了回调模型——train_log\n",
    "    model.train(cor,total_words=model.corpus_total_words,epochs=epochs,callbacks=[train_log_word(output_model)],compute_loss = True)\n",
    "    print(\"word2vec training complete,epochs:\"+str(epochs)+\" using time:\"+str(time.time()-start_time)+' seconds')\n",
    "    return model\n",
    "\n"
   ]
  },
  {
   "cell_type": "code",
   "execution_count": 3,
   "metadata": {},
   "outputs": [],
   "source": [
    "#段落向量特征\n",
    "#段落向量训练的回调函数，用来保存模型等\n",
    "class train_log_doc(gensim.models.callbacks.CallbackAny2Vec):\n",
    "    def __init__(self, savename):\n",
    "        \n",
    "        self.time = 0.0\n",
    "        self.epoch = 0\n",
    "        self.savename = savename\n",
    "    #在每一轮开始的时候\n",
    "    def on_epoch_begin(self,model):\n",
    "        self.time = time.time()\n",
    "    #在每一轮结束的时候\n",
    "    def on_epoch_end(self,model):\n",
    "        self.epoch+=1\n",
    "        print('Epoch '+str(self.epoch)+' using time '+str(time.time()-self.time)+' seconds')\n",
    "        if(self.epoch%3==0):\n",
    "            model.save(self.savename)\n",
    "            print(\"Model %s save done!\" % self.savename)\n",
    "\n",
    "#训练段落向量（PV-DM或是PV-DBOW）\n",
    "#每个段落都映射到一个唯一的序列，由矩阵D中的一列表示，每个词也映射到一个唯一的向量，表示为W\n",
    "#对于某一段文本，当前段落向量和上下文所有词向量一起取平均值或者连接操作，生成的向量输入到softmax层，以预测上下文的下一个词\n",
    "#这个段落向量可以理解为一个词或是一个记忆单元，记住上下文缺失的内容或段落的主题。\n",
    "#段落向量不会跨段落（not across paragraphs），词向量对整个文档共享\n",
    "#PV-DBOW即句向量分布词袋模型。不把上下文中的词作为输入，而是强制模型从句子中随机抽取词汇来预测\n",
    "#PV-DBOW训练速度更稳定\n",
    "#参数说明（简单）：存放corpus的文件，输出的文件名，dm=1则为PV-DM模型，否则为PV-DBOW模型\n",
    "def make_d2v_model(corfile,output_model,epochs=1,vec_size=300,win_size=8,workers = 16,dm =1 ):\n",
    "    start_time=time.time()\n",
    "    #获取文档\n",
    "    documents = gensim.models.doc2vec.TaggedLineDocument(corfile)\n",
    "    #创建模型\n",
    "    model = gensim.models.Doc2Vec(size=vec_size,window=win_size, workers=workers,dm=dm)\n",
    "    #建立字典\n",
    "    model.build_vocab(documents)\n",
    "    #进行训练，callbacks回调函数\n",
    "    model.train(documents,total_words=model.corpus_total_words,epochs=epochs,callbacks=[train_log_doc(output_model)])\n",
    "\n",
    "    print(\"doc2vec training complete,epochs:\"+str(epochs)+\"using time:\"+str(time.time()-start_time))\n",
    "    return model\n"
   ]
  },
  {
   "cell_type": "code",
   "execution_count": 4,
   "metadata": {},
   "outputs": [
    {
     "name": "stdout",
     "output_type": "stream",
     "text": [
      "Epoch 1 using time 0.7407498359680176 seconds\n",
      "loss: 450810.375\n",
      "Epoch 2 using time 0.7699403762817383 seconds\n",
      "loss: 799327.5\n",
      "Epoch 3 using time 0.9285156726837158 seconds\n",
      "loss: 1111550.125\n",
      "Epoch 4 using time 0.9065752029418945 seconds\n",
      "loss: 1392794.375\n",
      "Epoch 5 using time 0.8975985050201416 seconds\n",
      "loss: 1662556.625\n",
      "Model word2vec.model save done!\n",
      "Epoch 6 using time 0.8916149139404297 seconds\n",
      "loss: 1915821.125\n",
      "Epoch 7 using time 0.9315056800842285 seconds\n",
      "loss: 2147994.75\n",
      "Epoch 8 using time 0.9055790901184082 seconds\n",
      "loss: 2363680.25\n",
      "Epoch 9 using time 0.8816397190093994 seconds\n",
      "loss: 2566060.75\n",
      "Epoch 10 using time 0.9364910125732422 seconds\n",
      "loss: 2757453.0\n",
      "Model word2vec.model save done!\n",
      "Epoch 11 using time 0.8756585121154785 seconds\n",
      "loss: 2939869.0\n",
      "Epoch 12 using time 0.8816423416137695 seconds\n",
      "loss: 3119702.75\n",
      "Epoch 13 using time 0.8975989818572998 seconds\n",
      "loss: 3292234.0\n",
      "Epoch 14 using time 0.8776531219482422 seconds\n",
      "loss: 3458447.0\n",
      "Epoch 15 using time 0.8946073055267334 seconds\n",
      "loss: 3615676.25\n",
      "Model word2vec.model save done!\n",
      "Epoch 16 using time 0.8976011276245117 seconds\n",
      "loss: 3712319.25\n",
      "Epoch 17 using time 0.8766579627990723 seconds\n",
      "loss: 3856567.0\n",
      "Epoch 18 using time 0.874692440032959 seconds\n",
      "loss: 3998745.0\n",
      "Epoch 19 using time 0.8706691265106201 seconds\n",
      "loss: 4183907.75\n",
      "Epoch 20 using time 0.8606970310211182 seconds\n",
      "loss: 4307279.5\n",
      "Model word2vec.model save done!\n",
      "Epoch 21 using time 0.8566715717315674 seconds\n",
      "loss: 4387633.0\n",
      "Epoch 22 using time 0.8597021102905273 seconds\n",
      "loss: 4501950.5\n",
      "Epoch 23 using time 0.8696715831756592 seconds\n",
      "loss: 4655598.0\n",
      "Epoch 24 using time 0.8497278690338135 seconds\n",
      "loss: 4771589.5\n",
      "Epoch 25 using time 0.8497283458709717 seconds\n",
      "loss: 4875841.5\n",
      "Model word2vec.model save done!\n",
      "Epoch 26 using time 0.802851676940918 seconds\n",
      "loss: 4984794.5\n",
      "Epoch 27 using time 0.8497276306152344 seconds\n",
      "loss: 5089635.0\n",
      "Epoch 28 using time 0.8427467346191406 seconds\n",
      "loss: 5198048.5\n",
      "Epoch 29 using time 0.851722002029419 seconds\n",
      "loss: 5297735.0\n",
      "Epoch 30 using time 0.8387560844421387 seconds\n",
      "loss: 5403598.5\n",
      "Model word2vec.model save done!\n",
      "Epoch 31 using time 0.870671272277832 seconds\n",
      "loss: 5471909.0\n",
      "Epoch 32 using time 0.8457610607147217 seconds\n",
      "loss: 5572629.0\n",
      "Epoch 33 using time 0.9295139312744141 seconds\n",
      "loss: 5670269.0\n",
      "Epoch 34 using time 0.898629903793335 seconds\n",
      "loss: 5773046.0\n",
      "Epoch 35 using time 0.883636474609375 seconds\n",
      "loss: 5870580.5\n",
      "Model word2vec.model save done!\n",
      "Epoch 36 using time 0.8487308025360107 seconds\n",
      "loss: 5938006.0\n",
      "Epoch 37 using time 0.9135572910308838 seconds\n",
      "loss: 6037258.0\n",
      "Epoch 38 using time 0.8218023777008057 seconds\n",
      "loss: 6132043.5\n",
      "Epoch 39 using time 0.832772970199585 seconds\n",
      "loss: 6232272.5\n",
      "Epoch 40 using time 0.851722002029419 seconds\n",
      "loss: 6295101.0\n",
      "Model word2vec.model save done!\n",
      "Epoch 41 using time 0.8197765350341797 seconds\n",
      "loss: 6392560.0\n",
      "Epoch 42 using time 0.8267877101898193 seconds\n",
      "loss: 6489183.0\n",
      "Epoch 43 using time 0.8287849426269531 seconds\n",
      "loss: 6583730.5\n",
      "Epoch 44 using time 0.8517227172851562 seconds\n",
      "loss: 6676116.5\n",
      "Epoch 45 using time 0.8237974643707275 seconds\n",
      "loss: 6771069.5\n",
      "Model word2vec.model save done!\n",
      "Epoch 46 using time 0.8158230781555176 seconds\n",
      "loss: 6832648.5\n",
      "Epoch 47 using time 0.8098347187042236 seconds\n",
      "loss: 6927543.5\n",
      "Epoch 48 using time 0.8218040466308594 seconds\n",
      "loss: 7022266.5\n",
      "Epoch 49 using time 0.874661922454834 seconds\n",
      "loss: 7116665.0\n",
      "Epoch 50 using time 0.8277871608734131 seconds\n",
      "loss: 7208289.0\n",
      "Model word2vec.model save done!\n"
     ]
    },
    {
     "data": {
      "image/png": "[encoded data removed]",
      "text/plain": [
       "<Figure size 432x288 with 1 Axes>"
      ]
     },
     "metadata": {
      "needs_background": "light"
     },
     "output_type": "display_data"
    },
    {
     "name": "stdout",
     "output_type": "stream",
     "text": [
      "word2vec training complete,epochs:50 using time:45.892441511154175 seconds\n"
     ]
    },
    {
     "data": {
      "text/plain": [
       "[('110339', 0.653994083404541),\n",
       " ('71981', 0.5977658033370972),\n",
       " ('25485', 0.5974366068840027),\n",
       " ('4366', 0.5942772626876831),\n",
       " ('37166', 0.5938936471939087),\n",
       " ('34569', 0.5925248861312866),\n",
       " ('13168', 0.5915049314498901),\n",
       " ('24181', 0.5854678153991699),\n",
       " ('26626', 0.5841189622879028),\n",
       " ('86638', 0.5829948782920837)]"
      ]
     },
     "execution_count": 4,
     "metadata": {},
     "output_type": "execute_result"
    }
   ],
   "source": [
    "#训练词向量\n",
    "w2v_model = make_w2v_model('query_title.txt','word2vec.model',epochs=50)\n",
    "w2v_model.wv.most_similar('1')"
   ]
  },
  {
   "cell_type": "code",
   "execution_count": null,
   "metadata": {},
   "outputs": [],
   "source": [
    "#训练段落向量\n",
    "d2v_model = make_d2v_model('query_title.txt','doc2vec.model',epochs = 3)"
   ]
  },
  {
   "cell_type": "code",
   "execution_count": 18,
   "metadata": {},
   "outputs": [],
   "source": [
    "#对词向量、段落向量进行读取\n",
    "w2v_model = Word2Vec.load(\"word2vec.model\")\n",
    "d2v_model = Doc2Vec.load('doc2vec.model')"
   ]
  },
  {
   "cell_type": "code",
   "execution_count": 21,
   "metadata": {},
   "outputs": [
    {
     "name": "stdout",
     "output_type": "stream",
     "text": [
      "1480384.125\n",
      "Epoch 1 using time 0.9295544624328613 seconds\n",
      "loss: 112092.2890625\n",
      "Epoch 2 using time 0.9295587539672852 seconds\n",
      "loss: 220170.96875\n",
      "Epoch 3 using time 1.1598973274230957 seconds\n",
      "loss: 327874.28125\n",
      "Epoch 4 using time 1.30155348777771 seconds\n",
      "loss: 433103.375\n",
      "Epoch 5 using time 1.2796061038970947 seconds\n",
      "loss: 535727.25\n",
      "Model word2vec.model save done!\n",
      "Epoch 6 using time 1.3065037727355957 seconds\n",
      "loss: 635215.9375\n",
      "Epoch 7 using time 1.2975690364837646 seconds\n",
      "loss: 734141.1875\n",
      "Epoch 8 using time 1.3134841918945312 seconds\n",
      "loss: 830791.6875\n",
      "Epoch 9 using time 1.3154809474945068 seconds\n",
      "loss: 926942.4375\n",
      "Epoch 10 using time 1.2047746181488037 seconds\n",
      "loss: 1022488.5\n",
      "Model word2vec.model save done!\n",
      "1022488.5\n"
     ]
    }
   ],
   "source": [
    "\n",
    "#词向量模型 继续训练（gensim继续训练的话，学习率会重新从默认值0.25开始，再慢慢掉到min_alpha，所以最好不要使用继续训练）\n",
    "my_call = train_log_word('word2vec.model')\n",
    "w2v_model.train(corpus_file='query_title.txt',\n",
    "total_words=w2v_model.corpus_total_words,\n",
    "epochs=10, \n",
    "compute_loss =True,\n",
    "callbacks=[my_call])\n",
    "\n",
    "# 观察最后一轮训练loss\n",
    "print(w2v_model.get_latest_training_loss())"
   ]
  },
  {
   "cell_type": "code",
   "execution_count": 29,
   "metadata": {},
   "outputs": [
    {
     "name": "stderr",
     "output_type": "stream",
     "text": [
      "100%|█████████████████████████████████████████████████████████████████████████| 20000/20000 [00:00<00:00, 41664.68it/s]\n"
     ]
    },
    {
     "name": "stdout",
     "output_type": "stream",
     "text": [
      "complete, using time 0.4870436191558838 seconds\n"
     ]
    },
    {
     "data": {
      "text/plain": [
       "True"
      ]
     },
     "execution_count": 29,
     "metadata": {},
     "output_type": "execute_result"
    }
   ],
   "source": [
    "#特征1（1*2）：一句话中是否有重复的字词\n",
    "#注意：query和title分开使用\n",
    "def is_repeat(filename,outputfile,length):\n",
    "    with open(outputfile, 'w') as output:\n",
    "        with open(filename) as f:\n",
    "            #处理开始时间\n",
    "            start_time = time.time()\n",
    "            for i in tqdm(range(length),mininterval=1.0):\n",
    "                key = 0\n",
    "                line = np.array(f.readline().strip('\\n').split(' '))\n",
    "                #np.unique去重复值\n",
    "                line2 = np.unique(line)\n",
    "                if(len(line)>len(line2)):\n",
    "                    key = 1\n",
    "                output.write(\"{0}\\n\".format(key))\n",
    "            print(\"complete, using time \"+str(time.time()-start_time)+\" seconds\")\n",
    "    return True\n",
    "\n",
    "#调用该函数\n",
    "is_repeat('query.txt','query_repeat.txt',length = 20000)"
   ]
  },
  {
   "cell_type": "code",
   "execution_count": 7,
   "metadata": {},
   "outputs": [
    {
     "name": "stderr",
     "output_type": "stream",
     "text": [
      "20000it [00:00, 211090.45it/s]\n"
     ]
    },
    {
     "name": "stdout",
     "output_type": "stream",
     "text": [
      "make feature from train.csv using time 0.09774017333984375 seconds\n"
     ]
    },
    {
     "data": {
      "text/plain": [
       "True"
      ]
     },
     "execution_count": 7,
     "metadata": {},
     "output_type": "execute_result"
    }
   ],
   "source": [
    "#特征2（3）：普通长度特征\n",
    "#长度特征生成方法，传入csv源文件,输出文件名，得到长度特征（包括query、title长度和它们的长度比）\n",
    "def len_feature(filename,outfile):\n",
    "    with open(outfile, 'w') as output:\n",
    "        with open(filename) as csv_file:\n",
    "            #处理开始时间\n",
    "            start_time = time.time()\n",
    "            csv_reader = csv.reader(csv_file, delimiter=',')\n",
    "            for row in tqdm(csv_reader,mininterval=1.0):\n",
    "                #第一种方法，稍慢\n",
    "                #from tensorflow import keras\n",
    "                #len_query = len(keras.preprocessing.text.text_to_word_sequence(row[1],filters='',lower=True,split=' '))\n",
    "                #len_title = len(keras.preprocessing.text.text_to_word_sequence(row[3],filters='',lower=True,split=' '))\n",
    "                #第二种方法，第二种更快，但似乎占用内存更多，不过本来就是行流式读取，内存占用仍然很小\n",
    "                len_query = len(row[1].split(' '))\n",
    "                len_title = len(row[3].split(' '))\n",
    "                len_bi = len_query/len_title\n",
    "                output.write(\"{0},{1},{2}\\n\".format(len_query,len_title,len_bi))\n",
    "            print(\"make feature from \"+filename+\" using time \"+str(time.time()-start_time)+\" seconds\")\n",
    "    return True\n",
    "\n",
    "#调用该函数\n",
    "len_feature(\"train.csv\",'len_feature.txt')"
   ]
  },
  {
   "cell_type": "code",
   "execution_count": 3,
   "metadata": {},
   "outputs": [
    {
     "name": "stderr",
     "output_type": "stream",
     "text": [
      "100%|██████████████████████████████████████████████████████████████████████████| 20000/20000 [00:02<00:00, 6879.36it/s]\n"
     ]
    },
    {
     "name": "stdout",
     "output_type": "stream",
     "text": [
      "complete, using time 2.91686749458313 seconds\n"
     ]
    },
    {
     "data": {
      "text/plain": [
       "True"
      ]
     },
     "execution_count": 3,
     "metadata": {},
     "output_type": "execute_result"
    }
   ],
   "source": [
    "#特征3（6*2）：一句话中的tfidf信息——平均值、最大值、最小值、数学期望、方差、中位数\n",
    "#得到corpus_tfidf，即词-tfidf的内容。输入train+query的文件，返回corpus_tfidf\n",
    "#注意：title使用，query_title使用\n",
    "def get_corpus_tfidf(filename):\n",
    "    sentence = LineSentence(filename)\n",
    "    dictionary = corpora.Dictionary(sentence)\n",
    "\n",
    "    #过滤掉频率最高的N个单词\n",
    "    #dictionary.filter_n_most_frequent(10) \n",
    "    #1.去掉出现次数低于no_below的 2.去掉出现次数高于no_above的。注意这个小数指的是百分数 3.在1和2的基础上，保留出现频率前keep_n的单词\n",
    "    dictionary.filter_extremes(no_below=2,keep_n=len(dictionary))\n",
    "    #生成corpus\n",
    "    corpus = [dictionary.doc2bow(text) for text in sentence]\n",
    "\n",
    "    # 初始化tfidf\n",
    "    tfidf = models.TfidfModel(corpus)\n",
    "    # 转换整个词库\n",
    "    corpus_tfidf = tfidf[corpus]\n",
    "    #corpus_tfidf.save('corpus_tfidf.txt')\n",
    "    return corpus_tfidf\n",
    "\n",
    "#得到tfidf的common feature，输入一个corpus_tfidf，输出到文件中\n",
    "def tfidf_common_feature(corpus_tfidf,outputfile):\n",
    "    start_time = time.time()\n",
    "    with open(outputfile, 'w') as output:\n",
    "        j = 0\n",
    "        for i in tqdm(corpus_tfidf,mininterval=1.0):\n",
    "        #if j ==5426:\n",
    "            #print(i)\n",
    "            need = np.array(i).T[1]\n",
    "            mean = need.mean()\n",
    "            nmax = need.max()\n",
    "            nmin = need.min()\n",
    "            #方差\n",
    "            var = np.var(need)\n",
    "            #数学期望\n",
    "            Ex = np.sum(need)\n",
    "            #中位数\n",
    "            middle = np.median(need)\n",
    "            output.write(\"{0},{1},{2},{3},{4},{5}\\n\".format(mean,nmax,nmin,var,Ex,middle))\n",
    "            j +=1\n",
    "            \n",
    "    print(\"complete, using time \"+str(time.time()-start_time)+\" seconds\")                \n",
    "    return True\n",
    "\n",
    "#调用函数\n",
    "corpus_tfidf = get_corpus_tfidf(r'query_title.txt')\n",
    "tfidf_common_feature(corpus_tfidf,'tfidf_common_feature.txt')"
   ]
  },
  {
   "cell_type": "code",
   "execution_count": 11,
   "metadata": {},
   "outputs": [
    {
     "name": "stderr",
     "output_type": "stream",
     "text": [
      "20000it [00:04, 4081.38it/s]\n"
     ]
    },
    {
     "name": "stdout",
     "output_type": "stream",
     "text": [
      "calculated distance feature with 20000 lines, using time 4.905137300491333 seconds\n"
     ]
    },
    {
     "data": {
      "text/plain": [
       "True"
      ]
     },
     "execution_count": 11,
     "metadata": {},
     "output_type": "execute_result"
    }
   ],
   "source": [
    "#特征4(9)：词向量计算出的段落向量与段落向量的距离\n",
    "#参数说明：词向量和段落向量的模型名，语料文件名和输出文件名\n",
    "def w2v_d2v_distance(w2vmodel,d2vmodel,corfile,outputfile):\n",
    "    #d2vmodel = Doc2Vec.load(d2v_model)\n",
    "    with open(outputfile, 'w') as output:\n",
    "        with open(corfile) as csv_file:\n",
    "            start_time = time.time()\n",
    "            csv_reader = csv.reader(csv_file, delimiter=',')\n",
    "            line_count = 0\n",
    "            for row in tqdm(csv_reader,mininterval=1.0):\n",
    "                #返回具体行数的段落向量\n",
    "                d2v = d2vmodel.docvecs[line_count]\n",
    "                words = row[0].split(' ')\n",
    "                #创建300维的空np.array\n",
    "                w2v = np.zeros(300,dtype=float)\n",
    "                wl=len(words)\n",
    "                for word in words:\n",
    "                    w2v = np.add(w2v,w2vmodel.wv[word])\n",
    "                    \n",
    "                #取词向量的平均\n",
    "                w2v = w2v/wl\n",
    "                \n",
    "                #计算欧氏距离   （np.subtract:求差，np.square：平方）\n",
    "                eudi_dis = np.sqrt(np.sum(np.square(np.subtract(w2v,d2v))))\n",
    "                #计算cos距离     （np.vpot：点积）\n",
    "                cos_dis = np.vdot(w2v,d2v)/(np.sqrt(np.sum(np.square(w2v)))*np.sqrt(np.sum(np.square(d2v))))\n",
    "                #曼哈顿距离      (np.abs：绝对值)\n",
    "                mht_dis = 1.0/(1.0+np.sum(np.abs(np.subtract(w2v,d2v))))\n",
    "                #相异度距离\n",
    "                BC_dis = distance.braycurtis(w2v,d2v)\n",
    "                #坎贝拉距离\n",
    "                cb_dis = distance.canberra(w2v,d2v)\n",
    "                #皮尔森相关系数\n",
    "                corela = distance.correlation(w2v,d2v)\n",
    "                #海明距离(useless)\n",
    "                ham_dis= distance.hamming(w2v,d2v)\n",
    "                #杰卡德距离(useless)\n",
    "                jc_dis= distance.jaccard(w2v,d2v)\n",
    "                #方差加权距离\n",
    "                sqeudi_dis = distance.sqeuclidean(w2v,d2v)\n",
    "\n",
    "                \n",
    "                output.write(\"{0},{1},{2},{3},{4},{5},{6},{7},{8}\\n\".format(eudi_dis,cos_dis,mht_dis,BC_dis,cb_dis,corela,ham_dis,jc_dis,sqeudi_dis))\n",
    "                line_count +=1\n",
    "            print(\"calculated distance feature with \"+ str(line_count)+\" lines, using time \"+str(time.time()-start_time)+\" seconds\")\n",
    "    return True\n",
    "\n",
    "w2v_d2v_distance(w2v_model,d2v_model,\"query_title.txt\",\"w2v_d2v_distance.txt\")"
   ]
  },
  {
   "cell_type": "code",
   "execution_count": 21,
   "metadata": {},
   "outputs": [
    {
     "name": "stderr",
     "output_type": "stream",
     "text": [
      "20000it [01:07, 298.43it/s]\n"
     ]
    },
    {
     "name": "stdout",
     "output_type": "stream",
     "text": [
      "calculated w2v_sim_mat feature using time 67.02113509178162 seconds\n"
     ]
    },
    {
     "data": {
      "text/plain": [
       "True"
      ]
     },
     "execution_count": 21,
     "metadata": {},
     "output_type": "execute_result"
    }
   ],
   "source": [
    "#特征5（3）：词向量的相似度矩阵（如果算力充足，甚至可以给title.txt也进行单独计算）\n",
    "#参数说明：传入词向量模型，语料文件名，输出文件名\n",
    "def w2v_sim_mat(w2vmodel,corfile,outputfile):\n",
    "    with open(outputfile, 'w') as output:\n",
    "        with open(corfile) as csv_file:\n",
    "            start_time = time.time()\n",
    "            csv_reader = csv.reader(csv_file, delimiter=',')\n",
    "            #csv_reader可以用来读以空格作为分隔符的txt文件\n",
    "            for row in tqdm(csv_reader,mininterval=1):\n",
    "                #row此时是一个列表，只包含一个字符串\n",
    "                words = row[0].split(' ')\n",
    "                words_len = len(words)\n",
    "                #空矩阵\n",
    "                sim_mat = np.zeros((words_len,words_len))\n",
    "                #算法优化：遍历上三角矩阵，其他取对称\n",
    "                for i in range(words_len):\n",
    "                    for j in range(i,words_len):\n",
    "                        sim_mat[i][j] = w2vmodel.wv.similarity(words[i],words[j])#返回一个数（相似度）\n",
    "                        #sim_mat[i][j] = np.vdot(w2vmodel[words[i]],w2vmodel[words[i]])/(np.sqrt(np.sum(np.square(w2vmodel[words[i]])))*np.sqrt(np.sum(w2vmodel[words[j]])))\n",
    "                        sim_mat[j][i] = sim_mat[i][j]\n",
    "                #对每一行取平均值，返回一个一维数组\n",
    "                sim_mean = np.mean(sim_mat, axis=0)\n",
    "                sim_mean_mean = np.mean(sim_mean,axis=0)\n",
    "                #相似度矩阵平均值偏度\n",
    "                sim_mean_skew = stats.skew(sim_mean, axis=0)\n",
    "                #相似度矩阵平均值峰度\n",
    "                sim_mean_kurt = stats.kurtosis(sim_mean, axis=0)\n",
    "                \n",
    "                #下面是对整个矩阵进行操作，包括整个矩阵的偏度、偏度的平均、偏度的偏度、整个矩阵的峰度、峰度的平均等等（实际因为算力不足未使用）\n",
    "                #sim_skew = stats.skew(sim_mat, axis=0)\n",
    "                #sim_skew_mean = np.mean(sim_skew,axis=0)\n",
    "                #sim_skew_skew = stats.skew(sim_skew, axis=0)\n",
    "                #sim_kurt = stats.kurtosis(sim_mat, axis=0)\n",
    "                #sim_kurt_mean = np.mean(sim_kurt,axis=0)\n",
    "                output.write(\"{0},{1},{2}\\n\".format(sim_mean_mean,sim_mean_skew,sim_mean_kurt))\n",
    "            print(\"calculated w2v_sim_mat feature using time \"+str(time.time()-start_time)+\" seconds\")\n",
    "    return True\n",
    "\n",
    "#调用该函数\n",
    "w2v_sim_mat(w2v_model,\"query_title.txt\",\"w2v_sim_mat_mean.txt\")"
   ]
  },
  {
   "cell_type": "code",
   "execution_count": 28,
   "metadata": {},
   "outputs": [
    {
     "name": "stderr",
     "output_type": "stream",
     "text": [
      "20000it [00:04, 4061.47it/s]\n"
     ]
    },
    {
     "name": "stdout",
     "output_type": "stream",
     "text": [
      "calculated query&title distance feature using time 4.928260087966919 seconds\n"
     ]
    }
   ],
   "source": [
    "#特征6（9）：query的平均词向量和title的平均词向量间的距离\n",
    "#参数说明：传入词向量模型，源csv文件名，输出文件名\n",
    "def query_title_distance(w2vmodel,corfile,outputfile):\n",
    "    with open(outputfile, 'w') as output:\n",
    "        with open(corfile) as csv_file:\n",
    "            start_time = time.time()\n",
    "            csv_reader = csv.reader(csv_file, delimiter=',')\n",
    "            line_count=0\n",
    "            for row in tqdm(csv_reader,mininterval=1.0):\n",
    "                query = row[1].split(' ')\n",
    "                title = row[3].split(' ')\n",
    "                query_len = len(query)\n",
    "                title_len = len(title)\n",
    "                query_w2v = np.zeros(300,dtype=float)\n",
    "                title_w2v = np.zeros(300,dtype=float)\n",
    "                for word in query:\n",
    "                    query_w2v = np.add(query_w2v,w2vmodel.wv[word])\n",
    "                for word in title:\n",
    "                    title_w2v = np.add(title_w2v,w2vmodel.wv[word])\n",
    "                query_w2v/=query_len\n",
    "                title_w2v/=title_len\n",
    "                \n",
    "                #计算欧氏距离   （np.subtract:求差，np.square：平方）\n",
    "                eudi_dis = np.sqrt(np.sum(np.square(np.subtract(query_w2v,title_w2v))))\n",
    "                #计算cos距离     （np.vpot：点积）\n",
    "                cos_dis = np.vdot(query_w2v,title_w2v)/(np.sqrt(np.sum(np.square(query_w2v)))*np.sqrt(np.sum(np.square(title_w2v))))\n",
    "                #曼哈顿距离      (np.abs：绝对值)\n",
    "                mht_dis = 1.0/(1.0+np.sum(np.abs(np.subtract(query_w2v,title_w2v))))\n",
    "                #相异度距离\n",
    "                BC_dis = distance.braycurtis(query_w2v,title_w2v)\n",
    "                #坎贝拉距离\n",
    "                cb_dis = distance.canberra(query_w2v,title_w2v)\n",
    "                #皮尔森相关系数\n",
    "                corela = distance.correlation(query_w2v,title_w2v)\n",
    "                #海明距离(useless)\n",
    "                ham_dis= distance.hamming(query_w2v,title_w2v)\n",
    "                #杰卡德距离(useless)\n",
    "                jc_dis= distance.jaccard(query_w2v,title_w2v)\n",
    "                #方差加权距离\n",
    "                sqeudi_dis = distance.sqeuclidean(query_w2v,title_w2v)\n",
    "\n",
    "                \n",
    "                output.write(\"{0},{1},{2},{3},{4},{5},{6},{7},{8}\\n\".format(eudi_dis,cos_dis,mht_dis,BC_dis,cb_dis,corela,ham_dis,jc_dis,sqeudi_dis))\n",
    "            print(\"calculated query&title distance feature using time \"+str(time.time()-start_time)+\" seconds\")\n",
    "    return True\n",
    "            \n",
    "#调用该函数\n",
    "query_title_distance(w2v_model,\"train.csv\",\"query_title_dis.txt\")"
   ]
  },
  {
   "cell_type": "code",
   "execution_count": 54,
   "metadata": {},
   "outputs": [
    {
     "name": "stderr",
     "output_type": "stream",
     "text": [
      "\n",
      "\n",
      "\n",
      "  0%|                                                                                        | 0/20000 [00:00<?, ?it/s]\n",
      "\n",
      "\n",
      "100%|█████████████████████████████████████████████████████████████████████████| 20000/20000 [00:00<00:00, 30893.36it/s]"
     ]
    },
    {
     "name": "stdout",
     "output_type": "stream",
     "text": [
      "using time :1.5665664672851562\n"
     ]
    },
    {
     "name": "stderr",
     "output_type": "stream",
     "text": [
      "\n",
      "\n",
      "\n",
      "  0%|                                                                                        | 0/20000 [00:00<?, ?it/s]\n",
      "\n",
      "\n",
      "100%|█████████████████████████████████████████████████████████████████████████| 20000/20000 [00:00<00:00, 50027.90it/s]\n",
      "\n",
      "\n",
      "  0%|                                                                                        | 0/20000 [00:00<?, ?it/s]\n",
      "\n",
      "\n",
      "100%|███████████████████████████████████████████████████████████████████████| 20000/20000 [00:00<00:00, 1061164.06it/s]"
     ]
    },
    {
     "name": "stdout",
     "output_type": "stream",
     "text": [
      "[[0.69118564 0.30881436]\n",
      " [0.70821263 0.29178737]\n",
      " [0.70429092 0.29570908]\n",
      " ...\n",
      " [0.7534714  0.2465286 ]\n",
      " [0.75718997 0.24281003]\n",
      " [0.73717936 0.26282064]]\n"
     ]
    },
    {
     "name": "stderr",
     "output_type": "stream",
     "text": [
      "\n",
      "\n",
      "\n",
      "  0%|                                                                                        | 0/20000 [00:00<?, ?it/s]\n",
      "\n",
      "\n",
      "100%|████████████████████████████████████████████████████████████████████████| 20000/20000 [00:00<00:00, 384025.20it/s]"
     ]
    },
    {
     "name": "stdout",
     "output_type": "stream",
     "text": [
      "using time :0.5971519947052002\n"
     ]
    },
    {
     "data": {
      "text/plain": [
       "True"
      ]
     },
     "execution_count": 54,
     "metadata": {},
     "output_type": "execute_result"
    }
   ],
   "source": [
    "#特征7（1*2）：tfidf矩阵奇异值分解降维+预测（注：如果算力够，可以把title.txt单独拉出来也进行操作）\n",
    "#tfidf矩阵奇异值分解降维\n",
    "#参数说明：传入query和title的组合，输出文件名，需要分解至的维数\n",
    "def make_tf_idf_svd(corfile,outputfile,dim):\n",
    "    with open(outputfile, 'w') as output:\n",
    "        with open(corfile) as cor:\n",
    "            start = time.time()\n",
    "            #读取所有行组成大列表\n",
    "            train_cor = cor.readlines()\n",
    "            #生成字典\n",
    "            count_vect = CountVectorizer()\n",
    "            train_counts = count_vect.fit_transform(train_cor)\n",
    "            #生成tfidf\n",
    "            tfidf_transformer = TfidfTransformer()\n",
    "            train_tfidf = tfidf_transformer.fit_transform(train_counts)\n",
    "            #降维，需要30维\n",
    "            lsa = TruncatedSVD(dim) \n",
    "            tfidf_svd = lsa.fit_transform(train_tfidf)\n",
    "            \n",
    "            for i in tqdm(range(len(tfidf_svd)),mininterval=1.0):\n",
    "                #转换一下格式，使得成为逗号分隔符\n",
    "                need = str(list(tfidf_svd[i])).replace(' ','')[1:-1]\n",
    "                output.write(\"{0}\\n\".format(need))\n",
    "            print(\"using time :\"+str(time.time()-start))\n",
    "    return True\n",
    "\n",
    "#调用该函数\n",
    "make_tf_idf_svd(\"query_title.txt\",\"tfidf_svd.txt\",30) \n",
    "\n",
    "#用分解完了的特征向量，加上简单的分类器进行初步预测,预测值（lr和mh）作为特征\n",
    "#参数说明：上面分解完30维文件，标签，输出的文件名以及需要的（行数）\n",
    "def make_tfidf_predict(tfidffile,labelfile,outputfile,length):\n",
    "    with open(outputfile, 'w') as output:\n",
    "        with open(tfidffile) as train_data:\n",
    "            with open(labelfile) as label_data:\n",
    "                start = time.time()\n",
    "                train_x = []\n",
    "                #读进30维的训练数据\n",
    "                for i in tqdm(range(length),mininterval=1.0):\n",
    "                    train_x.append(list(map(float,train_data.readline().replace('\\n','').split(','))))\n",
    "                train_y = []\n",
    "                #读进标签数据\n",
    "                for i in tqdm(range(length),mininterval=1.0):\n",
    "                    train_y.append(float(label_data.readline()))\n",
    "                #简单分类器，使用它分别输出lr和mh，损失函数分别为'log'和'modified_huber'\n",
    "                clf = SGDClassifier(loss='modified_huber',early_stopping=True)\n",
    "                clf.fit(train_x,train_y)\n",
    "                #进行预测\n",
    "                pred = clf.predict_proba(train_x)\n",
    "                for result in tqdm(pred,mininterval=1.0):\n",
    "                    #result[1]取正向频率\n",
    "                    output.write(\"{0}\\n\".format(result[1]))\n",
    "            print(\"using time :\"+str(time.time()-start))\n",
    "            return True\n",
    "\n",
    "#调用该函数\n",
    "make_tfidf_predict('tfidf_svd.txt','lb.txt','tfidf_MH.txt',20000)"
   ]
  },
  {
   "cell_type": "code",
   "execution_count": null,
   "metadata": {},
   "outputs": [],
   "source": []
  },
  {
   "cell_type": "code",
   "execution_count": null,
   "metadata": {},
   "outputs": [],
   "source": []
  },
  {
   "cell_type": "code",
   "execution_count": null,
   "metadata": {},
   "outputs": [],
   "source": []
  },
  {
   "cell_type": "code",
   "execution_count": null,
   "metadata": {},
   "outputs": [],
   "source": []
  },
  {
   "cell_type": "code",
   "execution_count": null,
   "metadata": {},
   "outputs": [],
   "source": []
  }
 ],
 "metadata": {
  "kernelspec": {
   "display_name": "Python 3",
   "language": "python",
   "name": "python3"
  },
  "language_info": {
   "codemirror_mode": {
    "name": "ipython",
    "version": 3
   },
   "file_extension": ".py",
   "mimetype": "text/x-python",
   "name": "python",
   "nbconvert_exporter": "python",
   "pygments_lexer": "ipython3",
   "version": "3.6.5"
  }
 },
 "nbformat": 4,
 "nbformat_minor": 2
}
